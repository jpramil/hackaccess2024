{
 "cells": [
  {
   "cell_type": "raw",
   "metadata": {
    "vscode": {
     "languageId": "raw"
    }
   },
   "source": [
    "---\n",
    "title: Petit notebook de mise à disposition de données issues d'Accès Libre\n",
    "format:\n",
    "  html:\n",
    "    code-fold: true\n",
    "lang: fr\n",
    "---"
   ]
  },
  {
   "cell_type": "markdown",
   "metadata": {},
   "source": [
    "Ce notebook est un premier pas avant transformation en application.\n",
    "Il nous permet de tester le (faible) niveau d'accessibilité de ce format notebook pour les personnes aveugles.\n",
    "\n",
    "Quelles règles apprises : \n",
    "- Le notebook n'est globalement pas très accessible\n",
    "- On peut quand même améliorer les choses en choisissant une langue source (pour faciliter le travail de l'aide audio de la personne aveugle) et en mettant une structure en titres/sous-titre facilitant la navigation."
   ]
  },
  {
   "cell_type": "markdown",
   "metadata": {},
   "source": [
    "## Preprocessing des données"
   ]
  },
  {
   "cell_type": "code",
   "execution_count": null,
   "metadata": {},
   "outputs": [],
   "source": [
    "import pandas as pd"
   ]
  },
  {
   "cell_type": "markdown",
   "metadata": {},
   "source": [
    "Hyperparamètres"
   ]
  },
  {
   "cell_type": "code",
   "execution_count": null,
   "metadata": {},
   "outputs": [],
   "source": [
    "cols_access = ['entree_balise_sonore'] # Variable d'accessibilité visée\n",
    "# code_com_cible = \"85294\" # Commune d'intérêt\n",
    "code_com_cible = \"93066\""
   ]
  },
  {
   "cell_type": "markdown",
   "metadata": {},
   "source": [
    "Download data acceslibre"
   ]
  },
  {
   "cell_type": "code",
   "execution_count": null,
   "metadata": {},
   "outputs": [],
   "source": [
    "url_access_libre = \"https://www.data.gouv.fr/fr/datasets/r/5b0f44f2-e6ea-4a58-874d-6fe364b40342\"\n",
    "df_accesslibre = pd.read_csv(url_access_libre)"
   ]
  },
  {
   "cell_type": "code",
   "execution_count": null,
   "metadata": {},
   "outputs": [],
   "source": [
    "df_accesslibre.columns"
   ]
  },
  {
   "cell_type": "markdown",
   "metadata": {},
   "source": [
    "Columns selection"
   ]
  },
  {
   "cell_type": "code",
   "execution_count": null,
   "metadata": {},
   "outputs": [],
   "source": [
    "cols_base = ['id', 'name', 'code_insee', 'postal_code', 'commune', 'numero', 'voie', 'lieu_dit', 'longitude', 'latitude', ]\n",
    "df_balises = df_accesslibre[cols_base + cols_access]\n"
   ]
  },
  {
   "cell_type": "markdown",
   "metadata": {},
   "source": [
    "Suppression des établissements sans information sur les balises sonores"
   ]
  },
  {
   "cell_type": "code",
   "execution_count": null,
   "metadata": {},
   "outputs": [],
   "source": [
    "df_balises = df_balises[df_balises['entree_balise_sonore'].notna()]\n",
    "print(df_balises.shape)"
   ]
  },
  {
   "cell_type": "code",
   "execution_count": null,
   "metadata": {},
   "outputs": [],
   "source": [
    "df_balises['entree_balise_sonore'].value_counts()"
   ]
  },
  {
   "cell_type": "code",
   "execution_count": null,
   "metadata": {},
   "outputs": [],
   "source": [
    "df_balises"
   ]
  },
  {
   "cell_type": "markdown",
   "metadata": {},
   "source": [
    "Cleaning des positions GPS"
   ]
  },
  {
   "cell_type": "code",
   "execution_count": null,
   "metadata": {},
   "outputs": [],
   "source": [
    "# Convertir les colonnes latitude et longitude si nécessaire\n",
    "df_balises['longitude'] = pd.to_numeric(df_balises['longitude'], errors='coerce')\n",
    "df_balises['latitude'] = pd.to_numeric(df_balises['latitude'], errors='coerce')\n",
    "\n",
    "# Supprimer les lignes avec des coordonnées invalides\n",
    "df_balises = df_balises.dropna(subset=['longitude', 'latitude'])\n"
   ]
  },
  {
   "cell_type": "markdown",
   "metadata": {},
   "source": [
    "On ne garde que les établissements d'une communes. "
   ]
  },
  {
   "cell_type": "code",
   "execution_count": null,
   "metadata": {},
   "outputs": [],
   "source": [
    "df_balises_com = df_balises[df_balises[\"code_insee\"]==code_com_cible]\n"
   ]
  },
  {
   "cell_type": "markdown",
   "metadata": {},
   "source": [
    "## Résultats"
   ]
  },
  {
   "cell_type": "markdown",
   "metadata": {},
   "source": [
    "### Tableau des établissements répertoriés dans Accès Libre à La Tranche sur mer"
   ]
  },
  {
   "cell_type": "code",
   "execution_count": null,
   "metadata": {},
   "outputs": [],
   "source": [
    "df_balises_com[[\"name\",\"entree_balise_sonore\",\"numero\",\"voie\", \"commune\"]]"
   ]
  },
  {
   "cell_type": "code",
   "execution_count": null,
   "metadata": {},
   "outputs": [],
   "source": [
    "nb_etab_equipes = df_balises_com[\"entree_balise_sonore\"].sum()\n",
    "if (nb_etab_equipes>0):\n",
    "    print(f\"{nb_etab_equipes} établissements sont équipés dans la communes\")\n",
    "else:\n",
    "    print(\"Aucun d'établissement équipé dans la commune\")"
   ]
  },
  {
   "cell_type": "markdown",
   "metadata": {},
   "source": [
    "### Carte des établissements"
   ]
  },
  {
   "cell_type": "code",
   "execution_count": null,
   "metadata": {},
   "outputs": [],
   "source": [
    "import folium\n",
    "\n",
    "point_central = [df_balises_com['latitude'].mean(), df_balises_com['longitude'].mean()]\n",
    "carte = folium.Map(location=point_central, zoom_start=6)\n",
    "\n",
    "coordonnees = []\n",
    "for _, row in df_balises_com.iterrows():\n",
    "    if row['entree_balise_sonore'] == False:\n",
    "        continue\n",
    "    folium.Marker(\n",
    "        location=[row['latitude'], row['longitude']],\n",
    "        popup=f\"<b>{row['name']}</b>\",\n",
    "    ).add_to(carte)\n",
    "    coordonnees.append([row['latitude'], row['longitude']])\n",
    "\n",
    "if coordonnees:\n",
    "    carte.fit_bounds(coordonnees)\n",
    "display(carte)\n"
   ]
  },
  {
   "cell_type": "code",
   "execution_count": null,
   "metadata": {},
   "outputs": [],
   "source": [
    "from gtts import gTTS\n",
    "import os\n",
    "from playsound import playsound\n",
    "\n",
    "if nb_etab_equipes == 0:\n",
    "    text = \"Aucune balise sonore n'est installée dans la zone ciblée.\"\n",
    "else:\n",
    "    text = f\"Il y a {nb_etab_equipes} balises sonores dans la zone ciblée. Voici les noms des établissements équipés : \"\n",
    "    for i in range(nb_etab_equipes):\n",
    "        text += f\"{df_balises_com.iloc[i]['name']}.\"\n",
    "\n",
    "print(text)\n",
    "\n",
    "# Text to speech\n",
    "tts = gTTS(text=text, lang='fr')\n",
    "\n",
    "# Save play, delete\n",
    "audio_file = \"97r08weurdshsudczkcb;kjxznckjxzc.mp3\"\n",
    "tts.save(audio_file)\n",
    "playsound(audio_file)\n",
    "os.remove(audio_file)\n"
   ]
  }
 ],
 "metadata": {
  "kernelspec": {
   "display_name": "venv",
   "language": "python",
   "name": "python3"
  },
  "language_info": {
   "codemirror_mode": {
    "name": "ipython",
    "version": 3
   },
   "file_extension": ".py",
   "mimetype": "text/x-python",
   "name": "python",
   "nbconvert_exporter": "python",
   "pygments_lexer": "ipython3",
   "version": "3.11.2"
  }
 },
 "nbformat": 4,
 "nbformat_minor": 2
}
