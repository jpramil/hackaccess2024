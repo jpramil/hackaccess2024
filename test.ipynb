{
 "cells": [
  {
   "cell_type": "raw",
   "metadata": {
    "vscode": {
     "languageId": "raw"
    }
   },
   "source": [
    "---\n",
    "title: Petit notebook de mise à disposition de données issues d'Accès Libre\n",
    "format:\n",
    "  html:\n",
    "    code-fold: true\n",
    "lang: fr\n",
    "---"
   ]
  },
  {
   "cell_type": "markdown",
   "metadata": {},
   "source": [
    "Ce notebook est un premier pas avant transformation en application.\n",
    "Il nous permet de tester le (faible) niveau d'accessibilité de ce format notebook pour les personnes aveugles.\n",
    "\n",
    "Quelles règles apprises : \n",
    "- Le notebook n'est globalement pas très accessible\n",
    "- On peut quand même améliorer les choses en choisissant une langue source (pour faciliter le travail de l'aide audio de la personne aveugle) et en mettant une structure en titres/sous-titre facilitant la navigation."
   ]
  },
  {
   "cell_type": "markdown",
   "metadata": {},
   "source": [
    "## Preprocessing des données"
   ]
  },
  {
   "cell_type": "code",
   "execution_count": 1,
   "metadata": {},
   "outputs": [],
   "source": [
    "import pandas as pd\n",
    "import folium"
   ]
  },
  {
   "cell_type": "markdown",
   "metadata": {},
   "source": [
    "Hyperparamètres"
   ]
  },
  {
   "cell_type": "code",
   "execution_count": 2,
   "metadata": {},
   "outputs": [],
   "source": [
    "cols_access = ['entree_balise_sonore'] # Variable d'accessibilité visée\n",
    "code_com_cible = \"85294\" # Commune d'intérêt"
   ]
  },
  {
   "cell_type": "markdown",
   "metadata": {},
   "source": [
    "Download data acceslibre"
   ]
  },
  {
   "cell_type": "code",
   "execution_count": 3,
   "metadata": {},
   "outputs": [
    {
     "name": "stderr",
     "output_type": "stream",
     "text": [
      "/tmp/ipykernel_84462/489921021.py:2: DtypeWarning: Columns (56,67,68,69,70,71,72,73,74,79,80) have mixed types. Specify dtype option on import or set low_memory=False.\n",
      "  df_accesslibre = pd.read_csv(url_access_libre)\n"
     ]
    }
   ],
   "source": [
    "url_access_libre = \"https://www.data.gouv.fr/fr/datasets/r/5b0f44f2-e6ea-4a58-874d-6fe364b40342\"\n",
    "df_accesslibre = pd.read_csv(url_access_libre)"
   ]
  },
  {
   "cell_type": "code",
   "execution_count": 4,
   "metadata": {},
   "outputs": [
    {
     "data": {
      "text/plain": [
       "Index(['id', 'name', 'postal_code', 'commune', 'numero', 'voie', 'lieu_dit',\n",
       "       'code_insee', 'siret', 'activite', 'contact_url', 'site_internet',\n",
       "       'longitude', 'latitude', 'transport_station_presence',\n",
       "       'stationnement_presence', 'stationnement_pmr',\n",
       "       'stationnement_ext_presence', 'stationnement_ext_pmr',\n",
       "       'cheminement_ext_presence', 'cheminement_ext_terrain_stable',\n",
       "       'cheminement_ext_plain_pied', 'cheminement_ext_ascenseur',\n",
       "       'cheminement_ext_nombre_marches', 'cheminement_ext_reperage_marches',\n",
       "       'cheminement_ext_sens_marches', 'cheminement_ext_main_courante',\n",
       "       'cheminement_ext_rampe', 'cheminement_ext_pente_presence',\n",
       "       'cheminement_ext_pente_degre_difficulte',\n",
       "       'cheminement_ext_pente_longueur', 'cheminement_ext_devers',\n",
       "       'cheminement_ext_bande_guidage', 'cheminement_ext_retrecissement',\n",
       "       'entree_reperage', 'entree_vitree', 'entree_vitree_vitrophanie',\n",
       "       'entree_plain_pied', 'entree_ascenseur', 'entree_marches',\n",
       "       'entree_marches_reperage', 'entree_marches_main_courante',\n",
       "       'entree_marches_rampe', 'entree_marches_sens',\n",
       "       'entree_dispositif_appel', 'entree_dispositif_appel_type',\n",
       "       'entree_balise_sonore', 'entree_aide_humaine', 'entree_largeur_mini',\n",
       "       'entree_pmr', 'entree_porte_presence', 'entree_porte_manoeuvre',\n",
       "       'entree_porte_type', 'accueil_visibilite', 'accueil_personnels',\n",
       "       'accueil_audiodescription_presence', 'accueil_audiodescription',\n",
       "       'accueil_equipements_malentendants_presence',\n",
       "       'accueil_equipements_malentendants', 'accueil_cheminement_plain_pied',\n",
       "       'accueil_cheminement_ascenseur', 'accueil_cheminement_nombre_marches',\n",
       "       'accueil_cheminement_reperage_marches',\n",
       "       'accueil_cheminement_main_courante', 'accueil_cheminement_rampe',\n",
       "       'accueil_cheminement_sens_marches',\n",
       "       'accueil_chambre_nombre_accessibles',\n",
       "       'accueil_chambre_douche_plain_pied', 'accueil_chambre_douche_siege',\n",
       "       'accueil_chambre_douche_barre_appui',\n",
       "       'accueil_chambre_sanitaires_barre_appui',\n",
       "       'accueil_chambre_sanitaires_espace_usage',\n",
       "       'accueil_chambre_numero_visible', 'accueil_chambre_equipement_alerte',\n",
       "       'accueil_chambre_accompagnement', 'accueil_retrecissement',\n",
       "       'sanitaires_presence', 'sanitaires_adaptes', 'labels',\n",
       "       'labels_familles_handicap', 'registre_url', 'conformite'],\n",
       "      dtype='object')"
      ]
     },
     "execution_count": 4,
     "metadata": {},
     "output_type": "execute_result"
    }
   ],
   "source": [
    "df_accesslibre.columns"
   ]
  },
  {
   "cell_type": "markdown",
   "metadata": {},
   "source": [
    "Columns selection"
   ]
  },
  {
   "cell_type": "code",
   "execution_count": 5,
   "metadata": {},
   "outputs": [],
   "source": [
    "cols_base = ['id', 'name', 'code_insee', 'postal_code', 'commune', 'numero', 'voie', 'lieu_dit', 'longitude', 'latitude', ]\n",
    "df_balises = df_accesslibre[cols_base + cols_access]\n"
   ]
  },
  {
   "cell_type": "markdown",
   "metadata": {},
   "source": [
    "Suppression des établissements sans information sur les balises sonores"
   ]
  },
  {
   "cell_type": "code",
   "execution_count": 6,
   "metadata": {},
   "outputs": [
    {
     "name": "stdout",
     "output_type": "stream",
     "text": [
      "(65954, 11)\n"
     ]
    }
   ],
   "source": [
    "df_balises = df_balises[df_balises['entree_balise_sonore'].notna()]\n",
    "print(df_balises.shape)"
   ]
  },
  {
   "cell_type": "code",
   "execution_count": 7,
   "metadata": {},
   "outputs": [
    {
     "data": {
      "text/plain": [
       "entree_balise_sonore\n",
       "False    63625\n",
       "True      2329\n",
       "Name: count, dtype: int64"
      ]
     },
     "execution_count": 7,
     "metadata": {},
     "output_type": "execute_result"
    }
   ],
   "source": [
    "df_balises['entree_balise_sonore'].value_counts()"
   ]
  },
  {
   "cell_type": "code",
   "execution_count": 8,
   "metadata": {},
   "outputs": [
    {
     "data": {
      "text/html": [
       "<div>\n",
       "<style scoped>\n",
       "    .dataframe tbody tr th:only-of-type {\n",
       "        vertical-align: middle;\n",
       "    }\n",
       "\n",
       "    .dataframe tbody tr th {\n",
       "        vertical-align: top;\n",
       "    }\n",
       "\n",
       "    .dataframe thead th {\n",
       "        text-align: right;\n",
       "    }\n",
       "</style>\n",
       "<table border=\"1\" class=\"dataframe\">\n",
       "  <thead>\n",
       "    <tr style=\"text-align: right;\">\n",
       "      <th></th>\n",
       "      <th>id</th>\n",
       "      <th>name</th>\n",
       "      <th>code_insee</th>\n",
       "      <th>postal_code</th>\n",
       "      <th>commune</th>\n",
       "      <th>numero</th>\n",
       "      <th>voie</th>\n",
       "      <th>lieu_dit</th>\n",
       "      <th>longitude</th>\n",
       "      <th>latitude</th>\n",
       "      <th>entree_balise_sonore</th>\n",
       "    </tr>\n",
       "  </thead>\n",
       "  <tbody>\n",
       "    <tr>\n",
       "      <th>4</th>\n",
       "      <td>c7d781c0-12cf-4d66-aeef-571d8d4efd4f</td>\n",
       "      <td>0'mok@bar</td>\n",
       "      <td>75118</td>\n",
       "      <td>75018</td>\n",
       "      <td>Paris</td>\n",
       "      <td>43</td>\n",
       "      <td>Rue de la Chapelle</td>\n",
       "      <td>NaN</td>\n",
       "      <td>2.359299</td>\n",
       "      <td>48.893598</td>\n",
       "      <td>False</td>\n",
       "    </tr>\n",
       "    <tr>\n",
       "      <th>5</th>\n",
       "      <td>893019fe-cf9e-405e-9423-91955766cb45</td>\n",
       "      <td>0RPI</td>\n",
       "      <td>76322</td>\n",
       "      <td>76120</td>\n",
       "      <td>Le Grand-Quevilly</td>\n",
       "      <td>10</td>\n",
       "      <td>Avenue John Fitzgerald Kennedy</td>\n",
       "      <td>NaN</td>\n",
       "      <td>1.050465</td>\n",
       "      <td>49.408801</td>\n",
       "      <td>False</td>\n",
       "    </tr>\n",
       "    <tr>\n",
       "      <th>6</th>\n",
       "      <td>983f2d7a-3056-4a2a-b5b5-2b8ff0b40234</td>\n",
       "      <td>0zo</td>\n",
       "      <td>NaN</td>\n",
       "      <td>92400</td>\n",
       "      <td>Courbevoie</td>\n",
       "      <td>40</td>\n",
       "      <td>Rue De Bezons</td>\n",
       "      <td>NaN</td>\n",
       "      <td>2.248571</td>\n",
       "      <td>48.896493</td>\n",
       "      <td>False</td>\n",
       "    </tr>\n",
       "    <tr>\n",
       "      <th>9</th>\n",
       "      <td>e58f3350-8ae9-4f95-8343-98b2d22cd070</td>\n",
       "      <td>1000 BORNES</td>\n",
       "      <td>14220</td>\n",
       "      <td>14800</td>\n",
       "      <td>Deauville</td>\n",
       "      <td>59</td>\n",
       "      <td>Avenue de la République</td>\n",
       "      <td>NaN</td>\n",
       "      <td>0.075918</td>\n",
       "      <td>49.357996</td>\n",
       "      <td>False</td>\n",
       "    </tr>\n",
       "    <tr>\n",
       "      <th>11</th>\n",
       "      <td>128b173b-71c1-4e86-bf70-91122cee51ec</td>\n",
       "      <td>1000 Club</td>\n",
       "      <td>88109</td>\n",
       "      <td>88120</td>\n",
       "      <td>Cleurie</td>\n",
       "      <td>1</td>\n",
       "      <td>Chemin de Chevrimont</td>\n",
       "      <td>NaN</td>\n",
       "      <td>6.676431</td>\n",
       "      <td>48.051255</td>\n",
       "      <td>False</td>\n",
       "    </tr>\n",
       "    <tr>\n",
       "      <th>...</th>\n",
       "      <td>...</td>\n",
       "      <td>...</td>\n",
       "      <td>...</td>\n",
       "      <td>...</td>\n",
       "      <td>...</td>\n",
       "      <td>...</td>\n",
       "      <td>...</td>\n",
       "      <td>...</td>\n",
       "      <td>...</td>\n",
       "      <td>...</td>\n",
       "      <td>...</td>\n",
       "    </tr>\n",
       "    <tr>\n",
       "      <th>526299</th>\n",
       "      <td>c6cd1343-3c94-4b95-84c5-be67b1a15fda</td>\n",
       "      <td>ZXSBN6DD3VZBGSY</td>\n",
       "      <td>NaN</td>\n",
       "      <td>75002</td>\n",
       "      <td>Paris</td>\n",
       "      <td>5</td>\n",
       "      <td>Rue Notre-Dame de Bonne Nouvelle</td>\n",
       "      <td>NaN</td>\n",
       "      <td>2.349630</td>\n",
       "      <td>48.869574</td>\n",
       "      <td>False</td>\n",
       "    </tr>\n",
       "    <tr>\n",
       "      <th>526304</th>\n",
       "      <td>2ae3f50d-3ecb-4a82-b677-60f0661b58f8</td>\n",
       "      <td>zyke piscine</td>\n",
       "      <td>NaN</td>\n",
       "      <td>33600</td>\n",
       "      <td>Pessac</td>\n",
       "      <td>54</td>\n",
       "      <td>Avenue Jean Jaurès</td>\n",
       "      <td>NaN</td>\n",
       "      <td>-0.626179</td>\n",
       "      <td>44.807678</td>\n",
       "      <td>False</td>\n",
       "    </tr>\n",
       "    <tr>\n",
       "      <th>526305</th>\n",
       "      <td>0c76f896-72a0-484c-96de-92d9349be617</td>\n",
       "      <td>Zyke Piscine</td>\n",
       "      <td>NaN</td>\n",
       "      <td>16430</td>\n",
       "      <td>Champniers</td>\n",
       "      <td>203</td>\n",
       "      <td>Rue de l’Arêtier</td>\n",
       "      <td>NaN</td>\n",
       "      <td>0.180574</td>\n",
       "      <td>45.692716</td>\n",
       "      <td>False</td>\n",
       "    </tr>\n",
       "    <tr>\n",
       "      <th>526306</th>\n",
       "      <td>e61427a8-da8e-474f-9fa7-e9403ac75de5</td>\n",
       "      <td>Zyke-Piscine Internationale</td>\n",
       "      <td>NaN</td>\n",
       "      <td>47240</td>\n",
       "      <td>Lafox</td>\n",
       "      <td>NaN</td>\n",
       "      <td>NaN</td>\n",
       "      <td>Lieu-dit Devant Le Moulin RN 113</td>\n",
       "      <td>0.694818</td>\n",
       "      <td>44.170681</td>\n",
       "      <td>False</td>\n",
       "    </tr>\n",
       "    <tr>\n",
       "      <th>526309</th>\n",
       "      <td>04faca26-fe44-4734-9ed0-efc2f741ba62</td>\n",
       "      <td>zz mobile</td>\n",
       "      <td>NaN</td>\n",
       "      <td>75012</td>\n",
       "      <td>Paris</td>\n",
       "      <td>37</td>\n",
       "      <td>Boulevard de Reuilly</td>\n",
       "      <td>NaN</td>\n",
       "      <td>2.393089</td>\n",
       "      <td>48.839509</td>\n",
       "      <td>False</td>\n",
       "    </tr>\n",
       "  </tbody>\n",
       "</table>\n",
       "<p>65954 rows × 11 columns</p>\n",
       "</div>"
      ],
      "text/plain": [
       "                                          id                         name  \\\n",
       "4       c7d781c0-12cf-4d66-aeef-571d8d4efd4f                    0'mok@bar   \n",
       "5       893019fe-cf9e-405e-9423-91955766cb45                         0RPI   \n",
       "6       983f2d7a-3056-4a2a-b5b5-2b8ff0b40234                          0zo   \n",
       "9       e58f3350-8ae9-4f95-8343-98b2d22cd070                  1000 BORNES   \n",
       "11      128b173b-71c1-4e86-bf70-91122cee51ec                    1000 Club   \n",
       "...                                      ...                          ...   \n",
       "526299  c6cd1343-3c94-4b95-84c5-be67b1a15fda              ZXSBN6DD3VZBGSY   \n",
       "526304  2ae3f50d-3ecb-4a82-b677-60f0661b58f8                 zyke piscine   \n",
       "526305  0c76f896-72a0-484c-96de-92d9349be617                 Zyke Piscine   \n",
       "526306  e61427a8-da8e-474f-9fa7-e9403ac75de5  Zyke-Piscine Internationale   \n",
       "526309  04faca26-fe44-4734-9ed0-efc2f741ba62                    zz mobile   \n",
       "\n",
       "       code_insee  postal_code            commune numero  \\\n",
       "4           75118        75018              Paris     43   \n",
       "5           76322        76120  Le Grand-Quevilly     10   \n",
       "6             NaN        92400         Courbevoie     40   \n",
       "9           14220        14800          Deauville     59   \n",
       "11          88109        88120            Cleurie      1   \n",
       "...           ...          ...                ...    ...   \n",
       "526299        NaN        75002              Paris      5   \n",
       "526304        NaN        33600             Pessac     54   \n",
       "526305        NaN        16430         Champniers    203   \n",
       "526306        NaN        47240              Lafox    NaN   \n",
       "526309        NaN        75012              Paris     37   \n",
       "\n",
       "                                    voie                          lieu_dit  \\\n",
       "4                     Rue de la Chapelle                               NaN   \n",
       "5         Avenue John Fitzgerald Kennedy                               NaN   \n",
       "6                          Rue De Bezons                               NaN   \n",
       "9                Avenue de la République                               NaN   \n",
       "11                  Chemin de Chevrimont                               NaN   \n",
       "...                                  ...                               ...   \n",
       "526299  Rue Notre-Dame de Bonne Nouvelle                               NaN   \n",
       "526304                Avenue Jean Jaurès                               NaN   \n",
       "526305                  Rue de l’Arêtier                               NaN   \n",
       "526306                               NaN  Lieu-dit Devant Le Moulin RN 113   \n",
       "526309              Boulevard de Reuilly                               NaN   \n",
       "\n",
       "        longitude   latitude entree_balise_sonore  \n",
       "4        2.359299  48.893598                False  \n",
       "5        1.050465  49.408801                False  \n",
       "6        2.248571  48.896493                False  \n",
       "9        0.075918  49.357996                False  \n",
       "11       6.676431  48.051255                False  \n",
       "...           ...        ...                  ...  \n",
       "526299   2.349630  48.869574                False  \n",
       "526304  -0.626179  44.807678                False  \n",
       "526305   0.180574  45.692716                False  \n",
       "526306   0.694818  44.170681                False  \n",
       "526309   2.393089  48.839509                False  \n",
       "\n",
       "[65954 rows x 11 columns]"
      ]
     },
     "execution_count": 8,
     "metadata": {},
     "output_type": "execute_result"
    }
   ],
   "source": [
    "df_balises"
   ]
  },
  {
   "cell_type": "markdown",
   "metadata": {},
   "source": [
    "Cleaning des positions GPS"
   ]
  },
  {
   "cell_type": "code",
   "execution_count": 9,
   "metadata": {},
   "outputs": [],
   "source": [
    "# Convertir les colonnes latitude et longitude si nécessaire\n",
    "df_balises['longitude'] = pd.to_numeric(df_balises['longitude'], errors='coerce')\n",
    "df_balises['latitude'] = pd.to_numeric(df_balises['latitude'], errors='coerce')\n",
    "\n",
    "# Supprimer les lignes avec des coordonnées invalides\n",
    "df_balises = df_balises.dropna(subset=['longitude', 'latitude'])\n"
   ]
  },
  {
   "cell_type": "markdown",
   "metadata": {},
   "source": [
    "On ne garde que les établissements d'une communes. "
   ]
  },
  {
   "cell_type": "code",
   "execution_count": 10,
   "metadata": {},
   "outputs": [],
   "source": [
    "df_balises_com = df_balises[df_balises[\"code_insee\"]==code_com_cible]\n"
   ]
  },
  {
   "cell_type": "markdown",
   "metadata": {},
   "source": [
    "## Résultats"
   ]
  },
  {
   "cell_type": "markdown",
   "metadata": {},
   "source": [
    "### Tableau des établissements répertoriés dans Accès Libre à La Tranche sur mer"
   ]
  },
  {
   "cell_type": "code",
   "execution_count": 11,
   "metadata": {},
   "outputs": [
    {
     "data": {
      "text/html": [
       "<div>\n",
       "<style scoped>\n",
       "    .dataframe tbody tr th:only-of-type {\n",
       "        vertical-align: middle;\n",
       "    }\n",
       "\n",
       "    .dataframe tbody tr th {\n",
       "        vertical-align: top;\n",
       "    }\n",
       "\n",
       "    .dataframe thead th {\n",
       "        text-align: right;\n",
       "    }\n",
       "</style>\n",
       "<table border=\"1\" class=\"dataframe\">\n",
       "  <thead>\n",
       "    <tr style=\"text-align: right;\">\n",
       "      <th></th>\n",
       "      <th>name</th>\n",
       "      <th>entree_balise_sonore</th>\n",
       "      <th>numero</th>\n",
       "      <th>voie</th>\n",
       "      <th>commune</th>\n",
       "    </tr>\n",
       "  </thead>\n",
       "  <tbody>\n",
       "    <tr>\n",
       "      <th>119311</th>\n",
       "      <td>Cinéma Agnès Varda</td>\n",
       "      <td>False</td>\n",
       "      <td>NaN</td>\n",
       "      <td>Boulevard de la petite hollande</td>\n",
       "      <td>La Tranche-sur-Mer</td>\n",
       "    </tr>\n",
       "    <tr>\n",
       "      <th>206731</th>\n",
       "      <td>Gendarmerie - Brigade de La-Tranche-sur-Mer</td>\n",
       "      <td>False</td>\n",
       "      <td>115</td>\n",
       "      <td>Avenue Maurice Samson</td>\n",
       "      <td>La Tranche-sur-Mer</td>\n",
       "    </tr>\n",
       "    <tr>\n",
       "      <th>263928</th>\n",
       "      <td>La Poste</td>\n",
       "      <td>False</td>\n",
       "      <td>35</td>\n",
       "      <td>Rue victor hugo</td>\n",
       "      <td>La Tranche-sur-Mer</td>\n",
       "    </tr>\n",
       "    <tr>\n",
       "      <th>334914</th>\n",
       "      <td>Mairie de La Tranche-sur-Mer</td>\n",
       "      <td>False</td>\n",
       "      <td>8</td>\n",
       "      <td>Rue de l'hôtel de ville</td>\n",
       "      <td>La Tranche-sur-Mer</td>\n",
       "    </tr>\n",
       "    <tr>\n",
       "      <th>394369</th>\n",
       "      <td>Office de Tourisme de la Tranche sur Mer</td>\n",
       "      <td>False</td>\n",
       "      <td>1a</td>\n",
       "      <td>Rue jules ferry</td>\n",
       "      <td>La Tranche-sur-Mer</td>\n",
       "    </tr>\n",
       "  </tbody>\n",
       "</table>\n",
       "</div>"
      ],
      "text/plain": [
       "                                               name entree_balise_sonore  \\\n",
       "119311                           Cinéma Agnès Varda                False   \n",
       "206731  Gendarmerie - Brigade de La-Tranche-sur-Mer                False   \n",
       "263928                                     La Poste                False   \n",
       "334914                 Mairie de La Tranche-sur-Mer                False   \n",
       "394369     Office de Tourisme de la Tranche sur Mer                False   \n",
       "\n",
       "       numero                             voie             commune  \n",
       "119311    NaN  Boulevard de la petite hollande  La Tranche-sur-Mer  \n",
       "206731    115            Avenue Maurice Samson  La Tranche-sur-Mer  \n",
       "263928     35                  Rue victor hugo  La Tranche-sur-Mer  \n",
       "334914      8          Rue de l'hôtel de ville  La Tranche-sur-Mer  \n",
       "394369     1a                  Rue jules ferry  La Tranche-sur-Mer  "
      ]
     },
     "execution_count": 11,
     "metadata": {},
     "output_type": "execute_result"
    }
   ],
   "source": [
    "df_balises_com[[\"name\",\"entree_balise_sonore\",\"numero\",\"voie\", \"commune\"]]"
   ]
  },
  {
   "cell_type": "code",
   "execution_count": 12,
   "metadata": {},
   "outputs": [
    {
     "name": "stdout",
     "output_type": "stream",
     "text": [
      "Ps d'établissement équipé dans la commune\n"
     ]
    }
   ],
   "source": [
    "nb_etab_equipes = df_balises_com[\"entree_balise_sonore\"].sum()\n",
    "if (nb_etab_equipes>0):\n",
    "    print(f\"{nb_etab_equipes}établissements sont équipés dans la communes\")\n",
    "else:\n",
    "    print(\"Ps d'établissement équipé dans la commune\")"
   ]
  },
  {
   "cell_type": "markdown",
   "metadata": {},
   "source": [
    "### Carte des établissements"
   ]
  },
  {
   "cell_type": "code",
   "execution_count": 13,
   "metadata": {},
   "outputs": [
    {
     "data": {
      "text/html": [
       "<div style=\"width:100%;\"><div style=\"position:relative;width:100%;height:0;padding-bottom:60%;\"><span style=\"color:#565656\">Make this Notebook Trusted to load map: File -> Trust Notebook</span><iframe srcdoc=\"&lt;!DOCTYPE html&gt;\n",
       "&lt;html&gt;\n",
       "&lt;head&gt;\n",
       "    \n",
       "    &lt;meta http-equiv=&quot;content-type&quot; content=&quot;text/html; charset=UTF-8&quot; /&gt;\n",
       "    \n",
       "        &lt;script&gt;\n",
       "            L_NO_TOUCH = false;\n",
       "            L_DISABLE_3D = false;\n",
       "        &lt;/script&gt;\n",
       "    \n",
       "    &lt;style&gt;html, body {width: 100%;height: 100%;margin: 0;padding: 0;}&lt;/style&gt;\n",
       "    &lt;style&gt;#map {position:absolute;top:0;bottom:0;right:0;left:0;}&lt;/style&gt;\n",
       "    &lt;script src=&quot;https://cdn.jsdelivr.net/npm/leaflet@1.9.3/dist/leaflet.js&quot;&gt;&lt;/script&gt;\n",
       "    &lt;script src=&quot;https://code.jquery.com/jquery-3.7.1.min.js&quot;&gt;&lt;/script&gt;\n",
       "    &lt;script src=&quot;https://cdn.jsdelivr.net/npm/bootstrap@5.2.2/dist/js/bootstrap.bundle.min.js&quot;&gt;&lt;/script&gt;\n",
       "    &lt;script src=&quot;https://cdnjs.cloudflare.com/ajax/libs/Leaflet.awesome-markers/2.0.2/leaflet.awesome-markers.js&quot;&gt;&lt;/script&gt;\n",
       "    &lt;link rel=&quot;stylesheet&quot; href=&quot;https://cdn.jsdelivr.net/npm/leaflet@1.9.3/dist/leaflet.css&quot;/&gt;\n",
       "    &lt;link rel=&quot;stylesheet&quot; href=&quot;https://cdn.jsdelivr.net/npm/bootstrap@5.2.2/dist/css/bootstrap.min.css&quot;/&gt;\n",
       "    &lt;link rel=&quot;stylesheet&quot; href=&quot;https://netdna.bootstrapcdn.com/bootstrap/3.0.0/css/bootstrap-glyphicons.css&quot;/&gt;\n",
       "    &lt;link rel=&quot;stylesheet&quot; href=&quot;https://cdn.jsdelivr.net/npm/@fortawesome/fontawesome-free@6.2.0/css/all.min.css&quot;/&gt;\n",
       "    &lt;link rel=&quot;stylesheet&quot; href=&quot;https://cdnjs.cloudflare.com/ajax/libs/Leaflet.awesome-markers/2.0.2/leaflet.awesome-markers.css&quot;/&gt;\n",
       "    &lt;link rel=&quot;stylesheet&quot; href=&quot;https://cdn.jsdelivr.net/gh/python-visualization/folium/folium/templates/leaflet.awesome.rotate.min.css&quot;/&gt;\n",
       "    \n",
       "            &lt;meta name=&quot;viewport&quot; content=&quot;width=device-width,\n",
       "                initial-scale=1.0, maximum-scale=1.0, user-scalable=no&quot; /&gt;\n",
       "            &lt;style&gt;\n",
       "                #map_8c1406347343d21ccab254c59b110818 {\n",
       "                    position: relative;\n",
       "                    width: 100.0%;\n",
       "                    height: 100.0%;\n",
       "                    left: 0.0%;\n",
       "                    top: 0.0%;\n",
       "                }\n",
       "                .leaflet-container { font-size: 1rem; }\n",
       "            &lt;/style&gt;\n",
       "        \n",
       "&lt;/head&gt;\n",
       "&lt;body&gt;\n",
       "    \n",
       "    \n",
       "            &lt;div class=&quot;folium-map&quot; id=&quot;map_8c1406347343d21ccab254c59b110818&quot; &gt;&lt;/div&gt;\n",
       "        \n",
       "&lt;/body&gt;\n",
       "&lt;script&gt;\n",
       "    \n",
       "    \n",
       "            var map_8c1406347343d21ccab254c59b110818 = L.map(\n",
       "                &quot;map_8c1406347343d21ccab254c59b110818&quot;,\n",
       "                {\n",
       "                    center: [46.344786957911026, -1.441030490325165],\n",
       "                    crs: L.CRS.EPSG3857,\n",
       "                    zoom: 6,\n",
       "                    zoomControl: true,\n",
       "                    preferCanvas: false,\n",
       "                }\n",
       "            );\n",
       "\n",
       "            \n",
       "\n",
       "        \n",
       "    \n",
       "            var tile_layer_8c25d436f20b9686a35e1a384858135d = L.tileLayer(\n",
       "                &quot;https://tile.openstreetmap.org/{z}/{x}/{y}.png&quot;,\n",
       "                {&quot;attribution&quot;: &quot;\\u0026copy; \\u003ca href=\\&quot;https://www.openstreetmap.org/copyright\\&quot;\\u003eOpenStreetMap\\u003c/a\\u003e contributors&quot;, &quot;detectRetina&quot;: false, &quot;maxNativeZoom&quot;: 19, &quot;maxZoom&quot;: 19, &quot;minZoom&quot;: 0, &quot;noWrap&quot;: false, &quot;opacity&quot;: 1, &quot;subdomains&quot;: &quot;abc&quot;, &quot;tms&quot;: false}\n",
       "            );\n",
       "        \n",
       "    \n",
       "            tile_layer_8c25d436f20b9686a35e1a384858135d.addTo(map_8c1406347343d21ccab254c59b110818);\n",
       "        \n",
       "    \n",
       "            var marker_bd594a4affc4488481e54db53c5178ab = L.marker(\n",
       "                [46.348598, -1.448293],\n",
       "                {}\n",
       "            ).addTo(map_8c1406347343d21ccab254c59b110818);\n",
       "        \n",
       "    \n",
       "        var popup_53fdf60a5cd99e3a7ee84502fdcae660 = L.popup({&quot;maxWidth&quot;: &quot;100%&quot;});\n",
       "\n",
       "        \n",
       "            \n",
       "                var html_898f1747011b66d71238a91e2d0fb052 = $(`&lt;div id=&quot;html_898f1747011b66d71238a91e2d0fb052&quot; style=&quot;width: 100.0%; height: 100.0%;&quot;&gt;&lt;b&gt;Cinéma Agnès Varda&lt;/b&gt;&lt;/div&gt;`)[0];\n",
       "                popup_53fdf60a5cd99e3a7ee84502fdcae660.setContent(html_898f1747011b66d71238a91e2d0fb052);\n",
       "            \n",
       "        \n",
       "\n",
       "        marker_bd594a4affc4488481e54db53c5178ab.bindPopup(popup_53fdf60a5cd99e3a7ee84502fdcae660)\n",
       "        ;\n",
       "\n",
       "        \n",
       "    \n",
       "    \n",
       "            var marker_ccf1a69ac35db52b3f85d8f9bb3fb044 = L.marker(\n",
       "                [46.34418, -1.44398],\n",
       "                {}\n",
       "            ).addTo(map_8c1406347343d21ccab254c59b110818);\n",
       "        \n",
       "    \n",
       "        var popup_e62ac9a31e4e234a07a4cd094bacfa4a = L.popup({&quot;maxWidth&quot;: &quot;100%&quot;});\n",
       "\n",
       "        \n",
       "            \n",
       "                var html_09120c49945951637d6e12ff2db0bbd3 = $(`&lt;div id=&quot;html_09120c49945951637d6e12ff2db0bbd3&quot; style=&quot;width: 100.0%; height: 100.0%;&quot;&gt;&lt;b&gt;Gendarmerie - Brigade de La-Tranche-sur-Mer&lt;/b&gt;&lt;/div&gt;`)[0];\n",
       "                popup_e62ac9a31e4e234a07a4cd094bacfa4a.setContent(html_09120c49945951637d6e12ff2db0bbd3);\n",
       "            \n",
       "        \n",
       "\n",
       "        marker_ccf1a69ac35db52b3f85d8f9bb3fb044.bindPopup(popup_e62ac9a31e4e234a07a4cd094bacfa4a)\n",
       "        ;\n",
       "\n",
       "        \n",
       "    \n",
       "    \n",
       "            var marker_dd997e382b571b2ce6a8a1214f59eb0e = L.marker(\n",
       "                [46.344537, -1.436712],\n",
       "                {}\n",
       "            ).addTo(map_8c1406347343d21ccab254c59b110818);\n",
       "        \n",
       "    \n",
       "        var popup_dff03705494bb7fda2f82164e188ff76 = L.popup({&quot;maxWidth&quot;: &quot;100%&quot;});\n",
       "\n",
       "        \n",
       "            \n",
       "                var html_761d2b0b3ee47d28bac8aab03e2f2dfc = $(`&lt;div id=&quot;html_761d2b0b3ee47d28bac8aab03e2f2dfc&quot; style=&quot;width: 100.0%; height: 100.0%;&quot;&gt;&lt;b&gt;La Poste&lt;/b&gt;&lt;/div&gt;`)[0];\n",
       "                popup_dff03705494bb7fda2f82164e188ff76.setContent(html_761d2b0b3ee47d28bac8aab03e2f2dfc);\n",
       "            \n",
       "        \n",
       "\n",
       "        marker_dd997e382b571b2ce6a8a1214f59eb0e.bindPopup(popup_dff03705494bb7fda2f82164e188ff76)\n",
       "        ;\n",
       "\n",
       "        \n",
       "    \n",
       "    \n",
       "            var marker_57e296c027652a5ba1a206a16d97c419 = L.marker(\n",
       "                [46.34312078955513, -1.4377364516258242],\n",
       "                {}\n",
       "            ).addTo(map_8c1406347343d21ccab254c59b110818);\n",
       "        \n",
       "    \n",
       "        var popup_8d9b6516c7b66328e881cf2fd52421f0 = L.popup({&quot;maxWidth&quot;: &quot;100%&quot;});\n",
       "\n",
       "        \n",
       "            \n",
       "                var html_ff2bf8602ee3b8494bc93d85afb1710f = $(`&lt;div id=&quot;html_ff2bf8602ee3b8494bc93d85afb1710f&quot; style=&quot;width: 100.0%; height: 100.0%;&quot;&gt;&lt;b&gt;Mairie de La Tranche-sur-Mer&lt;/b&gt;&lt;/div&gt;`)[0];\n",
       "                popup_8d9b6516c7b66328e881cf2fd52421f0.setContent(html_ff2bf8602ee3b8494bc93d85afb1710f);\n",
       "            \n",
       "        \n",
       "\n",
       "        marker_57e296c027652a5ba1a206a16d97c419.bindPopup(popup_8d9b6516c7b66328e881cf2fd52421f0)\n",
       "        ;\n",
       "\n",
       "        \n",
       "    \n",
       "    \n",
       "            var marker_8059401fb319aa61ec395e5d4bf2d793 = L.marker(\n",
       "                [46.343499, -1.438431],\n",
       "                {}\n",
       "            ).addTo(map_8c1406347343d21ccab254c59b110818);\n",
       "        \n",
       "    \n",
       "        var popup_064ed09a6c0250d17a1a06a7c3cf82bf = L.popup({&quot;maxWidth&quot;: &quot;100%&quot;});\n",
       "\n",
       "        \n",
       "            \n",
       "                var html_9f76d59e27778d9dd8e3748e5894f76b = $(`&lt;div id=&quot;html_9f76d59e27778d9dd8e3748e5894f76b&quot; style=&quot;width: 100.0%; height: 100.0%;&quot;&gt;&lt;b&gt;Office de Tourisme de la Tranche sur Mer&lt;/b&gt;&lt;/div&gt;`)[0];\n",
       "                popup_064ed09a6c0250d17a1a06a7c3cf82bf.setContent(html_9f76d59e27778d9dd8e3748e5894f76b);\n",
       "            \n",
       "        \n",
       "\n",
       "        marker_8059401fb319aa61ec395e5d4bf2d793.bindPopup(popup_064ed09a6c0250d17a1a06a7c3cf82bf)\n",
       "        ;\n",
       "\n",
       "        \n",
       "    \n",
       "    \n",
       "            map_8c1406347343d21ccab254c59b110818.fitBounds(\n",
       "                [[46.348598, -1.448293], [46.34418, -1.44398], [46.344537, -1.436712], [46.34312078955513, -1.4377364516258242], [46.343499, -1.438431]],\n",
       "                {}\n",
       "            );\n",
       "        \n",
       "&lt;/script&gt;\n",
       "&lt;/html&gt;\" style=\"position:absolute;width:100%;height:100%;left:0;top:0;border:none !important;\" allowfullscreen webkitallowfullscreen mozallowfullscreen></iframe></div></div>"
      ],
      "text/plain": [
       "<folium.folium.Map at 0x7f996c2008c0>"
      ]
     },
     "metadata": {},
     "output_type": "display_data"
    }
   ],
   "source": [
    "point_central = [df_balises_com['latitude'].mean(), df_balises_com['longitude'].mean()]\n",
    "carte = folium.Map(location=point_central, zoom_start=6)\n",
    "\n",
    "coordonnees = []\n",
    "for _, row in df_balises_com.iterrows():\n",
    "    folium.Marker(\n",
    "        location=[row['latitude'], row['longitude']],\n",
    "        popup=f\"<b>{row['name']}</b>\",\n",
    "    ).add_to(carte)\n",
    "    coordonnees.append([row['latitude'], row['longitude']])\n",
    "\n",
    "if coordonnees: \n",
    "    carte.fit_bounds(coordonnees)\n",
    "display(carte)\n"
   ]
  }
 ],
 "metadata": {
  "kernelspec": {
   "display_name": "base",
   "language": "python",
   "name": "python3"
  },
  "language_info": {
   "codemirror_mode": {
    "name": "ipython",
    "version": 3
   },
   "file_extension": ".py",
   "mimetype": "text/x-python",
   "name": "python",
   "nbconvert_exporter": "python",
   "pygments_lexer": "ipython3",
   "version": "3.12.7"
  }
 },
 "nbformat": 4,
 "nbformat_minor": 2
}
