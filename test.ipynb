{
 "cells": [
  {
   "cell_type": "code",
   "execution_count": null,
   "metadata": {},
   "outputs": [],
   "source": [
    "import pandas as pd\n",
    "import folium"
   ]
  },
  {
   "cell_type": "markdown",
   "metadata": {},
   "source": [
    "Download data acceslibre"
   ]
  },
  {
   "cell_type": "code",
   "execution_count": null,
   "metadata": {},
   "outputs": [],
   "source": [
    "url_access_libre = \"https://www.data.gouv.fr/fr/datasets/r/5b0f44f2-e6ea-4a58-874d-6fe364b40342\"\n",
    "df_accesslibre = pd.read_csv(url_access_libre)"
   ]
  },
  {
   "cell_type": "code",
   "execution_count": null,
   "metadata": {},
   "outputs": [],
   "source": [
    "df_accesslibre.columns"
   ]
  },
  {
   "cell_type": "markdown",
   "metadata": {},
   "source": [
    "Columns selection"
   ]
  },
  {
   "cell_type": "code",
   "execution_count": null,
   "metadata": {},
   "outputs": [],
   "source": [
    "df_balises = df_accesslibre[['id', 'name', 'code_insee', 'longitude', 'latitude', 'entree_balise_sonore']]\n"
   ]
  },
  {
   "cell_type": "markdown",
   "metadata": {},
   "source": [
    "Suppression des établissements sans information sur les balises sonores"
   ]
  },
  {
   "cell_type": "code",
   "execution_count": null,
   "metadata": {},
   "outputs": [],
   "source": [
    "df_balises = df_balises[df_balises['entree_balise_sonore'].notna()]\n",
    "print(df_balises.shape)"
   ]
  },
  {
   "cell_type": "code",
   "execution_count": null,
   "metadata": {},
   "outputs": [],
   "source": [
    "df_balises['entree_balise_sonore'].value_counts()"
   ]
  },
  {
   "cell_type": "code",
   "execution_count": null,
   "metadata": {},
   "outputs": [],
   "source": [
    "df_balises"
   ]
  },
  {
   "cell_type": "markdown",
   "metadata": {},
   "source": [
    "Cleaning des positions GPS"
   ]
  },
  {
   "cell_type": "code",
   "execution_count": null,
   "metadata": {},
   "outputs": [],
   "source": [
    "# Convertir les colonnes latitude et longitude si nécessaire\n",
    "df_balises['longitude'] = pd.to_numeric(df_balises['longitude'], errors='coerce')\n",
    "df_balises['latitude'] = pd.to_numeric(df_balises['latitude'], errors='coerce')\n",
    "\n",
    "# Supprimer les lignes avec des coordonnées invalides\n",
    "df_balises = df_balises.dropna(subset=['longitude', 'latitude'])\n"
   ]
  },
  {
   "cell_type": "markdown",
   "metadata": {},
   "source": [
    "On ne garde que les établissements d'une communes, et uniquement ceux avec une borne sonore. "
   ]
  },
  {
   "cell_type": "code",
   "execution_count": null,
   "metadata": {},
   "outputs": [],
   "source": [
    "df_balises_true = df_balises[df_balises[\"entree_balise_sonore\"]]\n",
    "df_balises_true = df_balises[df_balises[\"code_insee\"]==\"85294\"]\n"
   ]
  },
  {
   "cell_type": "code",
   "execution_count": null,
   "metadata": {},
   "outputs": [],
   "source": [
    "\n",
    "# Définir un point central pour centrer la carte (par exemple, le premier point)\n",
    "point_central = [df_balises_true['latitude'].mean(), df_balises_true['longitude'].mean()]\n",
    "\n",
    "# Ajouter des points au marqueur\n",
    "carte = folium.Map(location=point_central, zoom_start=6)\n",
    "\n",
    "# Ajouter des points de données comme marqueurs\n",
    "for _, row in df_balises_true.iterrows():\n",
    "    folium.Marker(\n",
    "        location=[row['latitude'], row['longitude']],\n",
    "        popup=f\"<b>{row['name']}</b>\",\n",
    "    ).add_to(carte)\n",
    "\n",
    "# Afficher la carte dans le notebook\n",
    "display(carte)\n"
   ]
  }
 ],
 "metadata": {
  "kernelspec": {
   "display_name": "base",
   "language": "python",
   "name": "python3"
  },
  "language_info": {
   "codemirror_mode": {
    "name": "ipython",
    "version": 3
   },
   "file_extension": ".py",
   "mimetype": "text/x-python",
   "name": "python",
   "nbconvert_exporter": "python",
   "pygments_lexer": "ipython3",
   "version": "3.12.7"
  }
 },
 "nbformat": 4,
 "nbformat_minor": 2
}
